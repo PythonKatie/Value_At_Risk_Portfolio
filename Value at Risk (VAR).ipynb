{
 "cells": [
  {
   "cell_type": "code",
   "execution_count": 129,
   "metadata": {},
   "outputs": [
    {
     "name": "stdout",
     "output_type": "stream",
     "text": [
      "Mean of citi stock log returns is -0.0003\n",
      "Volatility of citi stock log returns is 0.03\n"
     ]
    },
    {
     "data": {
      "image/png": "[encoded data removed]",
      "text/plain": [
       "<Figure size 432x288 with 1 Axes>"
      ]
     },
     "metadata": {
      "needs_background": "light"
     },
     "output_type": "display_data"
    },
    {
     "name": "stdout",
     "output_type": "stream",
     "text": [
      "Value at Risk for 1 day at 90% Confidence Interval is -0.03923\n",
      "Value at Risk for 1 day at 95% Confidence Interval is -0.05027\n",
      "Value at Risk for 1 day at 99% Confidence Interval is -0.07098\n"
     ]
    }
   ],
   "source": [
    "import pandas as pd\n",
    "import numpy as np\n",
    "import matplotlib.pylab as plt\n",
    "import statsmodels.api as sm\n",
    "import seaborn as sns\n",
    "import pandas_datareader.data as web\n",
    "import numpy.random as npr\n",
    "import scipy.stats as scs\n",
    "from datetime import datetime\n",
    "from pandas.plotting import lag_plot\n",
    "%matplotlib inline\n",
    "\n",
    "start_date = datetime(2000, 1, 1)\n",
    "end_date = datetime(2019,11,9)\n",
    "\n",
    "citi = web.DataReader('C', 'yahoo', start_date, end_date)\n",
    "citi_sp = citi[\"Adj Close\"]\n",
    "#citi_sp.tail()\n",
    "citi[\"retns\"] = citi[\"Adj Close\"].pct_change()\n",
    "#print(\"Citi returns \", citi[\"retns\"].tail())\n",
    "\n",
    "citi[\"log_retns\"] = np.log(citi[\"Adj Close\"]/citi[\"Adj Close\"].shift(1))\n",
    "#print(\"Citi Log returns \", citi[\"log_retns\"].tail())\n",
    "\n",
    "mean = np.mean(citi[\"log_retns\"])\n",
    "vol = np.std(citi[\"log_retns\"])\n",
    "print(\"Mean of citi stock log returns is\", round(mean, 5))\n",
    "print(\"Volatility of citi stock log returns is\", round(vol, 3))\n",
    "\n",
    "##Plot Returns\n",
    "citi[\"log_retns\"].hist(bins = 30, density = True, alpha = 0.9)\n",
    "plt.xlabel(\"Log Returns\")\n",
    "plt.ylabel(\"Frequency\")\n",
    "x = np.linspace(mean - 3*vol, mean + 3*vol, 100)\n",
    "plt.plot(x, scs.norm.pdf(x, mean, vol))\n",
    "plt.show()\n",
    "\n",
    "var_90 = scs.norm.ppf(1 - 0.90, mean, vol)\n",
    "var_95 = scs.norm.ppf(1 - 0.95, mean, vol)\n",
    "var_99 = scs.norm.ppf(1 - 0.99, mean, vol)\n",
    "print(\"Value at Risk for 1 day at 90% Confidence Interval is\", round(var_90, 5))\n",
    "print(\"Value at Risk for 1 day at 95% Confidence Interval is\", round(var_95, 5))\n",
    "print(\"Value at Risk for 1 day at 99% Confidence Interval is\", round(var_99, 5))"
   ]
  },
  {
   "cell_type": "code",
   "execution_count": 124,
   "metadata": {},
   "outputs": [],
   "source": [
    "def var_DollarAmt(port, ci, mean, vol, t):\n",
    "    \"\"\"  Variance-Covariance calculation of Value-at-Risk using confidence level ci,\n",
    "    with mean and standard deviation of log returns, on a portfolio for time t in days.\"\"\"\n",
    "    \n",
    "    alpha = scs.norm.ppf(1-ci, mean, vol) * np.sqrt(t)\n",
    "    port_loss = port - port*(alpha + 1)\n",
    "      \n",
    "    return port_loss"
   ]
  },
  {
   "cell_type": "code",
   "execution_count": 125,
   "metadata": {},
   "outputs": [
    {
     "name": "stdout",
     "output_type": "stream",
     "text": [
      "The value at risk for 10 days at 0.95 Confidence interval for Citigroup portfolio worth 1000000 is 158975.995\n"
     ]
    }
   ],
   "source": [
    "portfolio = 1000000   # 1,000,000 USD\n",
    "ci = 0.95  # 99% confidence interval\n",
    "t = 10\n",
    "var = var_DollarAmt(portfolio, ci, mean, vol, t)\n",
    "print(\"The value at risk for\", t, \"days at\", ci, \"Confidence interval for Citigroup portfolio worth\", portfolio, \"is\", round(var, 3))"
   ]
  },
  {
   "cell_type": "code",
   "execution_count": 130,
   "metadata": {},
   "outputs": [
    {
     "data": {
      "text/html": [
       "<div>\n",
       "<style scoped>\n",
       "    .dataframe tbody tr th:only-of-type {\n",
       "        vertical-align: middle;\n",
       "    }\n",
       "\n",
       "    .dataframe tbody tr th {\n",
       "        vertical-align: top;\n",
       "    }\n",
       "\n",
       "    .dataframe thead th {\n",
       "        text-align: right;\n",
       "    }\n",
       "</style>\n",
       "<table border=\"1\" class=\"dataframe\">\n",
       "  <thead>\n",
       "    <tr style=\"text-align: right;\">\n",
       "      <th></th>\n",
       "      <th>CITI</th>\n",
       "      <th>JPM</th>\n",
       "      <th>MSFT</th>\n",
       "      <th>PG</th>\n",
       "    </tr>\n",
       "    <tr>\n",
       "      <th>Date</th>\n",
       "      <th></th>\n",
       "      <th></th>\n",
       "      <th></th>\n",
       "      <th></th>\n",
       "    </tr>\n",
       "  </thead>\n",
       "  <tbody>\n",
       "    <tr>\n",
       "      <th>2019-11-04</th>\n",
       "      <td>0.017586</td>\n",
       "      <td>0.007950</td>\n",
       "      <td>0.005759</td>\n",
       "      <td>-0.039521</td>\n",
       "    </tr>\n",
       "    <tr>\n",
       "      <th>2019-11-05</th>\n",
       "      <td>-0.004267</td>\n",
       "      <td>0.002171</td>\n",
       "      <td>-0.000623</td>\n",
       "      <td>-0.001429</td>\n",
       "    </tr>\n",
       "    <tr>\n",
       "      <th>2019-11-06</th>\n",
       "      <td>-0.005494</td>\n",
       "      <td>0.001548</td>\n",
       "      <td>-0.002773</td>\n",
       "      <td>0.011872</td>\n",
       "    </tr>\n",
       "    <tr>\n",
       "      <th>2019-11-07</th>\n",
       "      <td>0.018505</td>\n",
       "      <td>0.005399</td>\n",
       "      <td>0.001387</td>\n",
       "      <td>-0.005835</td>\n",
       "    </tr>\n",
       "    <tr>\n",
       "      <th>2019-11-08</th>\n",
       "      <td>0.004081</td>\n",
       "      <td>0.002919</td>\n",
       "      <td>0.011715</td>\n",
       "      <td>0.000669</td>\n",
       "    </tr>\n",
       "  </tbody>\n",
       "</table>\n",
       "</div>"
      ],
      "text/plain": [
       "                CITI       JPM      MSFT        PG\n",
       "Date                                              \n",
       "2019-11-04  0.017586  0.007950  0.005759 -0.039521\n",
       "2019-11-05 -0.004267  0.002171 -0.000623 -0.001429\n",
       "2019-11-06 -0.005494  0.001548 -0.002773  0.011872\n",
       "2019-11-07  0.018505  0.005399  0.001387 -0.005835\n",
       "2019-11-08  0.004081  0.002919  0.011715  0.000669"
      ]
     },
     "execution_count": 130,
     "metadata": {},
     "output_type": "execute_result"
    }
   ],
   "source": [
    "##Lets now calculate VAR for a portfolio of stocks\n",
    "\n",
    "jpm = web.DataReader('JPM', 'yahoo', start_date, end_date)\n",
    "jpm[\"log_retns\"] = np.log(jpm[\"Adj Close\"]/jpm[\"Adj Close\"].shift(1))\n",
    "\n",
    "msft = web.DataReader('MSFT', 'yahoo', start_date, end_date)\n",
    "msft[\"log_retns\"] = np.log(msft[\"Adj Close\"]/msft[\"Adj Close\"].shift(1))\n",
    "\n",
    "proctorg = web.DataReader('PG', 'yahoo', start_date, end_date)\n",
    "proctorg[\"log_retns\"] = np.log(proctorg[\"Adj Close\"]/proctorg[\"Adj Close\"].shift(1))\n",
    "\n",
    "port_assets = pd.DataFrame({'CITI': citi[\"log_retns\"], 'JPM': jpm[\"log_retns\"], 'MSFT': msft[\"log_retns\"], 'PG': proctorg[\"log_retns\"]})\n",
    "port_assets.tail()"
   ]
  },
  {
   "cell_type": "code",
   "execution_count": 131,
   "metadata": {},
   "outputs": [
    {
     "name": "stdout",
     "output_type": "stream",
     "text": [
      "The value at risk for 10 days at 0.95 Confidence interval for portfolio of assets worth 1000000 is [[94231.49921674]]\n"
     ]
    }
   ],
   "source": [
    "#dfna = df.dropna()\n",
    "rnum = np.random.rand(4) # generating 4 random numbers\n",
    "weight = np.asmatrix(rnum/sum(rnum)) # assigning weights to each portfolio based on the randomly generated numbers summing to 100%\n",
    "pa = np.asmatrix(np.mean(port_assets))\n",
    "cov_pa = port_assets.cov()\n",
    "\n",
    "mean_pa = weight * pa.T\n",
    "vol_pa = np.sqrt(weight * np.asmatrix(cov_pa) * weight.T)\n",
    "# These are the mean and standard deviation of the portfolio returns. \n",
    "# Now we can just use the normal distribution to help us, \n",
    "# making the assumption that percent change is distributed normally.\n",
    "\n",
    "var_pa = var_DollarAmt(portfolio, ci, mean_pa, vol_pa, t)\n",
    "\n",
    "print(\"The value at risk for\", t, \"days at\", ci, \"Confidence interval for portfolio of assets worth\", portfolio, \"is\", var_pa)"
   ]
  },
  {
   "cell_type": "code",
   "execution_count": null,
   "metadata": {},
   "outputs": [],
   "source": []
  },
  {
   "cell_type": "code",
   "execution_count": null,
   "metadata": {},
   "outputs": [],
   "source": []
  },
  {
   "cell_type": "code",
   "execution_count": null,
   "metadata": {},
   "outputs": [],
   "source": []
  }
 ],
 "metadata": {
  "kernelspec": {
   "display_name": "Python 3",
   "language": "python",
   "name": "python3"
  },
  "language_info": {
   "codemirror_mode": {
    "name": "ipython",
    "version": 3
   },
   "file_extension": ".py",
   "mimetype": "text/x-python",
   "name": "python",
   "nbconvert_exporter": "python",
   "pygments_lexer": "ipython3",
   "version": "3.7.3"
  }
 },
 "nbformat": 4,
 "nbformat_minor": 4
}
